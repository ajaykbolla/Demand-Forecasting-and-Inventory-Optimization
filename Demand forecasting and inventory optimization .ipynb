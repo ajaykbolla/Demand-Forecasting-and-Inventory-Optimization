{
 "cells": [
  {
   "cell_type": "markdown",
   "metadata": {},
   "source": [
    "## Problem Statement\n",
    "\n",
    "In supply chain management, forecasting demand and optimizing inventory are vital for maintaining operational efficiency and customer satisfaction. As a data analyst, I applied time series analysis to predict future sales for Product P1 and calculate safety stock levels to manage demand variability. The goal was to determine the reorder point that triggers inventory replenishment, ensuring that stock levels are optimal—neither overstocked nor understocked. Additionally, I utilized the Economic Order Quantity (EOQ) model to identify the most cost-efficient order quantity, reducing inventory costs. Finally, I established the reorder cycle, defining the time intervals at which orders should be placed to maintain smooth inventory operations.\n",
    "\n",
    "## Process Overview:\n",
    "1. Preprocess the dataset.\n",
    "2. Analyze demand and inventory trends.\n",
    "3. Test for stationarity (ADF Test).\n",
    "4. Model demand using SARIMAX and forecast.\n",
    "5. Optimize inventory with Newsvendor formula and reorder point.\n",
    "6. Calculate safety stock and total cost.\n",
    "7. Develop inventory management strategy.\n",
    "\n",
    "\n",
    "\n",
    "## Data:\n",
    "\n",
    "The dataset contains daily information for a product's demand and inventory levels. Below is a brief overview of the columns:\n",
    "\n",
    "**Date**: The date corresponding to the entry.\n",
    "**Product_ID**: The unique identifier for the product (e.g., P1).\n",
    "**Demand**: The number of units demanded on that particular date.\n",
    "**Inventory**: The number of units available in stock on that date.\n",
    "\n",
    "**Data Source**: [demand_forecasting](<../../OneDrive/Documents/Project 365/Python/Datasets/demand_inventory.csv>)\n",
    "\n"
   ]
  },
  {
   "cell_type": "markdown",
   "id": "f5b02625",
   "metadata": {},
   "source": [
    "\n",
    "## Table of Contents:\n",
    "\n",
    "1.\tImport necessary libraries and load the dataset.\n",
    "2.\tPreprocess the dataset by removing unnecessary columns.\n",
    "3.\tVisualize demand and inventory over time.\n",
    "4.\tPerform stationarity test (ADF Test).\n",
    "5.\tApply differencing to make the demand data stationary.\n",
    "6.\tPlot ACF and PACF for ARIMA/SARIMA parameter selection.\n",
    "7.\tFit SARIMAX model and forecast demand.\n",
    "8.\tGenerate future demand predictions for the next 10 days.\n",
    "9.\tCalculate the optimal order quantity using the Newsvendor formula.\n",
    "10.\tCompute reorder point considering lead time and variability.\n",
    "11.\tDetermine safety stock to account for demand uncertainty.\n",
    "12.\tCalculate total cost (holding + stockout cost).\n",
    "13.\tConclusion\n",
    "\n"
   ]
  },
  {
   "cell_type": "markdown",
   "id": "902477e6",
   "metadata": {},
   "source": [
    "### 1. Importing Libraries and Loading the Dataset"
   ]
  },
  {
   "cell_type": "code",
   "execution_count": null,
   "metadata": {},
   "outputs": [],
   "source": [
    "!pip install plotly"
   ]
  },
  {
   "cell_type": "code",
   "execution_count": null,
   "metadata": {},
   "outputs": [],
   "source": [
    "\n",
    "import numpy as np \n",
    "import pandas as pd \n",
    "import matplotlib.pyplot as plt \n",
    "%matplotlib inline\n",
    "import statsmodels.api as sm \n",
    "from statsmodels.graphics.tsaplots import plot_acf, plot_pacf\n",
    "from statsmodels.tsa.statespace.sarimax import SARIMAX\n"
   ]
  },
  {
   "cell_type": "markdown",
   "id": "7df37731",
   "metadata": {},
   "source": [
    "### 2. Preprocessing the Dataset"
   ]
  },
  {
   "cell_type": "code",
   "execution_count": null,
   "metadata": {},
   "outputs": [],
   "source": [
    "df = pd.read_csv(r'C:\\Users\\ajayk\\Downloads\\Demand-Forecasting-and-Inventory-Optimization\\demand_inventory.csv')\n",
    "\n",
    "df = df.drop(columns=['Unnamed: 0'])"
   ]
  },
  {
   "cell_type": "markdown",
   "id": "e7b2aa0c",
   "metadata": {},
   "source": [
    "*Here, we load the dataset and remove the unnecessary index column (Unnamed: 0) that was automatically added during data export.*"
   ]
  },
  {
   "cell_type": "markdown",
   "metadata": {},
   "source": [
    "### Visualizing demand and inventory over time."
   ]
  },
  {
   "cell_type": "code",
   "execution_count": null,
   "metadata": {},
   "outputs": [],
   "source": [
    "plt.figure(figsize=(16,5))\n",
    "plt.plot(df['Date'],df['Demand'],color='green', marker='o', linestyle='dashed')\n",
    "plt.xlabel('Date')\n",
    "plt.ylabel('Demand')\n",
    "plt.title('Demand over time')\n",
    "plt.grid(True)\n",
    "plt.xticks(rotation=90)\n",
    "plt.show()"
   ]
  },
  {
   "cell_type": "code",
   "execution_count": null,
   "metadata": {},
   "outputs": [],
   "source": [
    "import plotly.express as px\n",
    "\n",
    "fig_demand = px.line(df, x='Date',\n",
    "                     y='Demand',\n",
    "                     title='Demand Over Time')\n",
    "fig_demand.show()"
   ]
  },
  {
   "cell_type": "code",
   "execution_count": null,
   "metadata": {},
   "outputs": [],
   "source": [
    "\n",
    "fig_inventory = px.line(df, x='Date',\n",
    "                     y='Inventory',\n",
    "                     title='Inventory Over Time')\n",
    "fig_inventory.show()"
   ]
  },
  {
   "cell_type": "markdown",
   "id": "62a2b89d",
   "metadata": {},
   "source": [
    "*These visualizations help identify trends in demand and inventory over time. The Demand and Inventory time series are plotted for clear visualization of their respective patterns.*"
   ]
  },
  {
   "cell_type": "markdown",
   "id": "0ecd1236",
   "metadata": {},
   "source": [
    "## **Demand Forecasting**"
   ]
  },
  {
   "cell_type": "markdown",
   "metadata": {},
   "source": [
    "### 4. Performing Stationarity Test (ADF Test)"
   ]
  },
  {
   "cell_type": "code",
   "execution_count": null,
   "metadata": {},
   "outputs": [],
   "source": [
    "from statsmodels.tsa.stattools import adfuller\n",
    "\n",
    "def adf_test(df):\n",
    "    result=adfuller(df)\n",
    "    print('ADF STATS : {}'.format(result[0]))\n",
    "    print('p-value : {}'.format(result[1]))\n",
    "    if result[1] >= 0.05:\n",
    "        print (\"strong evidence against the null hypothesis, reject the null hypothesis. Data has no unit root and is stationary\")\n",
    "    else:\n",
    "        print(\"weak evidence against null hypothesis, time series has a unit root, indicating it is non-stationary\")\n",
    "        \n",
    "\n",
    "adf_test(df[\"Demand\"])  "
   ]
  },
  {
   "cell_type": "markdown",
   "id": "38f64df8",
   "metadata": {},
   "source": [
    "*The Augmented Dickey-Fuller (ADF) test is applied to check the stationarity of the demand data. If the p-value is greater than 0.05, the null hypothesis of non-stationarity is rejected, indicating that the data is stationary.*"
   ]
  },
  {
   "cell_type": "markdown",
   "metadata": {},
   "source": [
    "### 5. Differencing the Demand Data to Make it Stationary"
   ]
  },
  {
   "cell_type": "code",
   "execution_count": null,
   "metadata": {},
   "outputs": [],
   "source": [
    "\n",
    "df['1st_diff_demand'] = df['Demand'].diff().dropna()\n",
    "df "
   ]
  },
  {
   "cell_type": "markdown",
   "id": "a4b5eaff",
   "metadata": {},
   "source": [
    "*To make the data stationary, we performed differencing on the demand data. This operation subtracts the current value from the previous value to remove trends in the series.*"
   ]
  },
  {
   "cell_type": "code",
   "execution_count": null,
   "metadata": {},
   "outputs": [],
   "source": [
    "fig_demand = px.line(df, x='Date',\n",
    "                     y='1st_diff_demand',\n",
    "                     title='Demand Over Time')\n",
    "fig_demand.show()"
   ]
  },
  {
   "cell_type": "markdown",
   "id": "c90c9a67",
   "metadata": {},
   "source": [
    "### 6. Plotting ACF and PACF for ARIMA/SARIMA Parameter Selection"
   ]
  },
  {
   "cell_type": "code",
   "execution_count": null,
   "id": "183cb421",
   "metadata": {},
   "outputs": [],
   "source": [
    "df['Date'] = pd.to_datetime(df['Date'], format='%Y-%m-%d')\n",
    "\n",
    "df['Date'] = pd.to_datetime(df['Date'],\n",
    "                                     format='%Y/%m/%d')\n",
    "time_series = df.set_index('Date')['Demand']\n",
    "\n",
    "differenced_series = time_series.diff().dropna()\n",
    "\n",
    "# Plot ACF and PACF of differenced time series\n",
    "fig, axes = plt.subplots(1, 2, figsize=(12, 4))\n",
    "plot_acf(differenced_series, ax=axes[0])\n",
    "plot_pacf(differenced_series, ax=axes[1])\n",
    "plt.show()"
   ]
  },
  {
   "cell_type": "markdown",
   "metadata": {},
   "source": [
    "*We plotted the AutoCorrelation Function (ACF) and Partial AutoCorrelation Function (PACF) to identify the order of the AR (AutoRegressive) and MA (Moving Average) components for the SARIMA model. Based on these plots, we chose parameters p=3 and q=1 for the SARIMAX model.*"
   ]
  },
  {
   "cell_type": "markdown",
   "id": "232564ca",
   "metadata": {},
   "source": [
    "### 7. Fitting the SARIMAX Model and Forecasting Demand"
   ]
  },
  {
   "cell_type": "code",
   "execution_count": null,
   "metadata": {},
   "outputs": [],
   "source": [
    "order = (1, 1, 1)\n",
    "seasonal_order = (1, 1, 1, 2) #2 because the data contains a time period of 2 months only\n",
    "model = SARIMAX(time_series, order=order, seasonal_order=seasonal_order)\n",
    "model_fit = model.fit(disp=False)\n",
    "\n"
   ]
  },
  {
   "cell_type": "markdown",
   "id": "64bfa083",
   "metadata": {},
   "source": [
    "*The SARIMAX model is fitted using the identified parameters (order = (1, 1, 1) and seasonal_order = (1, 1, 1, 2)). This model accounts for both trend and seasonality in the demand data.*"
   ]
  },
  {
   "cell_type": "markdown",
   "id": "17f853d3",
   "metadata": {},
   "source": [
    "### 8. Creating future demand predictions for the next 10 days."
   ]
  },
  {
   "cell_type": "code",
   "execution_count": null,
   "id": "6479fbe2",
   "metadata": {},
   "outputs": [],
   "source": [
    "future_steps = 10\n",
    "predictions = model_fit.predict(len(time_series), len(time_series) + future_steps - 1)\n",
    "predictions = predictions.astype(int)\n",
    "print(predictions)"
   ]
  },
  {
   "cell_type": "markdown",
   "metadata": {},
   "source": [
    "## **Inventory Optimization**\n",
    "\n",
    "*The goal is to optimize inventory based on the forecasted demand for the next ten days.*\n"
   ]
  },
  {
   "cell_type": "code",
   "execution_count": null,
   "metadata": {},
   "outputs": [],
   "source": [
    "# Create date indices for the future predictions\n",
    "future_dates = pd.date_range(start=time_series.index[-1] + pd.DateOffset(days=1), periods=future_steps, freq='D')\n",
    "\n",
    "# Create a pandas Series with the predicted values and date indices\n",
    "forecasted_demand = pd.Series(predictions, index=future_dates)\n",
    "print(forecasted_demand)  "
   ]
  },
  {
   "cell_type": "code",
   "execution_count": null,
   "metadata": {},
   "outputs": [],
   "source": [
    "# Initial inventory level\n",
    "initial_inventory = 5500\n",
    "\n",
    "# Lead time (number of days it takes to replenish inventory) \n",
    "lead_time = 2 # it's different for every business, 2 days as an example\n",
    "\n",
    "# Service level (probability of not stocking out)\n",
    "service_level = 0.95 # it's different for every business, 0.95 is an example\n",
    "\n"
   ]
  },
  {
   "cell_type": "markdown",
   "metadata": {},
   "source": [
    "\n",
    "***The Economic Order Quantity (EOQ)** or **optimal order quantity** is the amount of stock that should be ordered to minimize the total costs associated with ordering and holding inventory. This is calculated based on the Newsvendor model, taking into account factors such as:*\n",
    "\n",
    "*Q∗ =μ+z⋅σ*\n",
    "\n",
    "*Q∗ is the optimal order quantity. or The Economic Order Quantity*\n",
    "\n",
    "*𝜇 - μ is the mean (average) of the forecasted demand.*\n",
    "\n",
    "*𝜎 - σ is the standard deviation of the forecasted demand.*\n",
    "\n",
    "*𝑧 - z is the z-score corresponding to the desired service level, obtained        using norm.ppf(service_level).*\n",
    "\n",
    "***Service Level Approach**: By using the z-score, the formula adjusts the order quantity to achieve the desired service level. The z-score tells us how many standard deviations above the mean demand we need to go to ensure that we meet the demand with the given probability (service level).*\n",
    "\n"
   ]
  },
  {
   "cell_type": "markdown",
   "id": "911ff1c2",
   "metadata": {},
   "source": [
    "### 9. Calculate the optimal order quantity using the Newsvendor formula"
   ]
  },
  {
   "cell_type": "code",
   "execution_count": null,
   "metadata": {},
   "outputs": [],
   "source": [
    "from scipy.stats import norm\n",
    "\n",
    "forecasted_demand_mean = forecasted_demand.mean()\n",
    "forecasted_demand_std = forecasted_demand.std()\n",
    "\n",
    "# Calculate the z-score for the desired service level i.e 0.95\n",
    "z = norm.ppf(service_level)\n",
    "\n",
    "# Calculate the optimal order quantity using the Newsvendor formula\n",
    "order_quantity = np.ceil(forecasted_demand_mean + z * forecasted_demand_std).astype(int)\n",
    "\n",
    "print(f'Optimal Order Quantity: {order_quantity}')"
   ]
  },
  {
   "cell_type": "markdown",
   "metadata": {},
   "source": [
    "### **Explaination**\n",
    "\n",
    "***Normal Distribution:***\n",
    "\n",
    "*The Newsvendor problem assumes that the demand follows a normal distribution. This is a common assumption because many natural phenomena tend to follow a normal distribution due to the Central Limit Theorem.*\n",
    "\n",
    "***Service Level***:\n",
    "\n",
    "*The service level represents the probability that the demand will not exceed the stock level. For example, a 95% service level means that there is a 95% chance that the demand will be met without stocking out.*\n",
    "\n",
    "\n",
    "***Z-Score:***\n",
    "\n",
    "The z-score is a statistical measure that represents the number of standard deviations a data point is from the mean. In this case, it represents how far the optimal stock level is from the mean demand, in terms of standard deviations.*\n",
    "\n",
    "***Percent Point Function (ppf):***\n",
    "\n",
    "*The ppf function is the inverse of the cumulative distribution function (CDF). While the CDF gives the probability that a value is less than or equal to a certain value, the ppf function gives the value that corresponds to a given probability.*\n",
    "\n",
    "\n",
    "*By using norm.ppf(service_level), we obtain the z-score that corresponds to the desired service level. For instance, for a service level of 95%, norm.ppf(0.95) gives us the z-score that corresponds to the 95th percentile of the normal distribution.*"
   ]
  },
  {
   "cell_type": "markdown",
   "id": "d789fdeb",
   "metadata": {},
   "source": [
    "### 10.\tCompute reorder point considering lead time and variability."
   ]
  },
  {
   "cell_type": "code",
   "execution_count": null,
   "metadata": {},
   "outputs": [],
   "source": [
    "std_lead_time_demand = forecasted_demand_std * np.sqrt(lead_time)\n",
    "\n",
    "# Computing reorder point considering lead time and variability.\n",
    "reorder_point = forecasted_demand_mean * lead_time + z * std_lead_time_demand\n",
    "print(f'Reorder Point: {reorder_point:.2f} units')"
   ]
  },
  {
   "cell_type": "markdown",
   "id": "1a674f36",
   "metadata": {},
   "source": [
    "### Parameters Summary:\n",
    "\n",
    "***EOQ (Economic Order Quantity)** or **Optimal order quantity:***\n",
    "*EOQ focuses on optimizing the order size to minimize costs.*\n",
    "\n",
    "***ROP (Reorder Point):*** \n",
    "*ROP focuses on the timing of placing new orders to prevent stockouts.*\n",
    "\n",
    "\n",
    "***EOQ - 133 units:***\n",
    "*This is the amount you should order each time you place an order to minimize the total inventory costs while achieving the desired service level. It considers the average demand and variability, ensuring that you order enough to meet demand without overstocking.*\n",
    "\n",
    "***ROP - 258.15 units:*** \n",
    "*This is the inventory level at which you should place a new order to ensure you don't run out of stock before the new order arrives. It considers the lead time and variability in demand during this period.*\n",
    "\n",
    "\n",
    "*Both metrics should work together. When your inventory level hits the ROP, you place an order of the EOQ to replenish your stock. In this case, if the inventory hits 258 units, you place an order of 133 units to replenish.*\n"
   ]
  },
  {
   "cell_type": "markdown",
   "id": "f3c56060",
   "metadata": {},
   "source": [
    "### 11. Determine safety stock to account for demand uncertainty."
   ]
  },
  {
   "cell_type": "code",
   "execution_count": null,
   "metadata": {},
   "outputs": [],
   "source": [
    "safety_stock = reorder_point - forecasted_demand.mean() * lead_time\n",
    "print(f'safety_stock: {reorder_point:.2f} units')\n",
    "\n",
    "\n",
    "#where  forecasted_demand.mean() * lead_time is avg_demand_lead_time "
   ]
  },
  {
   "cell_type": "markdown",
   "metadata": {},
   "source": [
    "*Safety stock is the additional inventory kept on hand to account for uncertainties in demand and supply. It acts as a buffer against unexpected variations in demand or lead time. In this case, a safety stock of **258 units** has been calculated, which helps ensure that there’s enough inventory to cover potential fluctuations in demand or lead time.*"
   ]
  },
  {
   "cell_type": "markdown",
   "id": "dc444123",
   "metadata": {},
   "source": [
    "### 12.\tCalculate total cost (holding + stockout cost)."
   ]
  },
  {
   "cell_type": "code",
   "execution_count": null,
   "metadata": {},
   "outputs": [],
   "source": [
    "holding_cost = 0.1  # it's different for every business, 0.1 is an example\n",
    "stockout_cost = 10  # # it's different for every business, 10 is an example\n",
    "total_holding_cost = holding_cost * (initial_inventory + 0.5 * order_quantity)\n",
    "total_stockout_cost = stockout_cost * np.maximum(0, forecasted_demand.mean() * lead_time - initial_inventory)\n",
    "\n",
    "total_cost = total_holding_cost + total_stockout_cost\n",
    "\n",
    "print(\"Total Cost:\", total_cost)"
   ]
  },
  {
   "cell_type": "markdown",
   "metadata": {},
   "source": [
    "\n",
    "*The total cost represents the combined costs associated with inventory management. In this case, the total cost has been calculated as approximately **561.80** units based on the order quantity, reorder point, safety stock, and associated costs.*"
   ]
  },
  {
   "cell_type": "markdown",
   "metadata": {},
   "source": [
    "### **Conclusion**\n",
    "\n",
    "Demand Forecasting involves predicting customer order quantities and patterns, which is vital for businesses to allocate resources effectively, manage inventory, and plan production. Inventory Optimization seeks to maintain an optimal balance—ensuring enough stock is available to meet demand, while avoiding excess inventory that ties up capital and storage space.\n",
    "\n",
    "In conclusion, this analysis offers a robust approach to demand forecasting and inventory optimization for Product P1. By utilizing time series analysis, the SARIMAX model successfully forecasts future demand. Simultaneously, the Economic Order Quantity (EOQ) and reorder point calculations facilitate efficient inventory replenishment. The safety stock metric further mitigates risks by buffering against fluctuations in demand and supply. When combined with inventory cost analysis, these insights form a comprehensive strategy that minimizes costs while maintaining product availability. This integrated approach enhances overall supply chain efficiency and empowers data-driven decision-making, contributing to operational success."
   ]
  },
  {
   "cell_type": "markdown",
   "id": "a3ccb1ce",
   "metadata": {},
   "source": []
  }
 ],
 "metadata": {
  "kernelspec": {
   "display_name": "Python 3",
   "language": "python",
   "name": "python3"
  },
  "language_info": {
   "codemirror_mode": {
    "name": "ipython",
    "version": 3
   },
   "file_extension": ".py",
   "mimetype": "text/x-python",
   "name": "python",
   "nbconvert_exporter": "python",
   "pygments_lexer": "ipython3",
   "version": "3.12.2"
  }
 },
 "nbformat": 4,
 "nbformat_minor": 5
}
